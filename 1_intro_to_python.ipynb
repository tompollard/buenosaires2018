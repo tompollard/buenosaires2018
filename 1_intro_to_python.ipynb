{
  "nbformat": 4,
  "nbformat_minor": 0,
  "metadata": {
    "colab": {
      "name": "1_intro_to_python",
      "version": "0.3.2",
      "provenance": [],
      "collapsed_sections": []
    },
    "kernelspec": {
      "name": "python3",
      "display_name": "Python 3"
    }
  },
  "cells": [
    {
      "cell_type": "markdown",
      "metadata": {
        "id": "view-in-github",
        "colab_type": "text"
      },
      "source": [
        "[View in Colaboratory](https://colab.research.google.com/github/tompollard/buenosaires2018/blob/master/1_intro_to_python.ipynb)"
      ]
    },
    {
      "metadata": {
        "id": "MVlG3K8qxgy5",
        "colab_type": "text"
      },
      "cell_type": "markdown",
      "source": [
        "# Programming in Python"
      ]
    },
    {
      "metadata": {
        "id": "_7Lz3V4XxyU0",
        "colab_type": "text"
      },
      "cell_type": "markdown",
      "source": [
        "In this part of the workshop, we will introduce some basic programming concepts in Python. We will then explore how these concepts allow us to carry out an anlysis that can be reproduced."
      ]
    },
    {
      "metadata": {
        "id": "iRPhL5kfzW8G",
        "colab_type": "text"
      },
      "cell_type": "markdown",
      "source": [
        "## Working with variables"
      ]
    },
    {
      "metadata": {
        "id": "IoZiyZcdzuoU",
        "colab_type": "text"
      },
      "cell_type": "markdown",
      "source": [
        "You can get output from Python by typing math into a code cell. Try executing a sum below (for example: 3 + 5)."
      ]
    },
    {
      "metadata": {
        "id": "erH-YTwfxuRn",
        "colab_type": "code",
        "colab": {
          "base_uri": "https://localhost:8080/",
          "height": 34
        },
        "outputId": "86445ece-8e0d-47ce-97e3-3f6712cf7e60"
      },
      "cell_type": "code",
      "source": [
        "3+5"
      ],
      "execution_count": 1,
      "outputs": [
        {
          "output_type": "execute_result",
          "data": {
            "text/plain": [
              "8"
            ]
          },
          "metadata": {
            "tags": []
          },
          "execution_count": 1
        }
      ]
    },
    {
      "metadata": {
        "id": "rujpi9FIkBAF",
        "colab_type": "code",
        "colab": {
          "base_uri": "https://localhost:8080/",
          "height": 34
        },
        "outputId": "0a1c4420-5e9c-414d-d81d-945ecd66b773"
      },
      "cell_type": "code",
      "source": [
        "971*54"
      ],
      "execution_count": 2,
      "outputs": [
        {
          "output_type": "execute_result",
          "data": {
            "text/plain": [
              "52434"
            ]
          },
          "metadata": {
            "tags": []
          },
          "execution_count": 2
        }
      ]
    },
    {
      "metadata": {
        "id": "w6SnVmgf0EWo",
        "colab_type": "text"
      },
      "cell_type": "markdown",
      "source": [
        "However, to do anything useful, we will need to assign values to `variables`. Assign a height in cm to a variable in the cell below."
      ]
    },
    {
      "metadata": {
        "id": "lcNstJrz0fBK",
        "colab_type": "code",
        "colab": {
          "base_uri": "https://localhost:8080/",
          "height": 17
        },
        "outputId": "3fef1cfa-7d7f-42e8-d5f2-8e5d51bf61c6"
      },
      "cell_type": "code",
      "source": [
        "height_cm = 180"
      ],
      "execution_count": 3,
      "outputs": []
    },
    {
      "metadata": {
        "id": "eGu0U_Gx0qru",
        "colab_type": "text"
      },
      "cell_type": "markdown",
      "source": [
        "Now the value has been assigned to our variable, we can print it in the console with `print`."
      ]
    },
    {
      "metadata": {
        "id": "IE-rDEu50kS0",
        "colab_type": "code",
        "colab": {
          "base_uri": "https://localhost:8080/",
          "height": 34
        },
        "outputId": "192918c4-d6da-4c3a-b4b2-2ba2323d780f"
      },
      "cell_type": "code",
      "source": [
        "print('Height in cm is:', height_cm)"
      ],
      "execution_count": 5,
      "outputs": [
        {
          "output_type": "stream",
          "text": [
            "Height in cm is: 180\n"
          ],
          "name": "stdout"
        }
      ]
    },
    {
      "metadata": {
        "id": "FN201Cc9kq6B",
        "colab_type": "code",
        "colab": {
          "base_uri": "https://localhost:8080/",
          "height": 17
        },
        "outputId": "24487cda-9da6-4c36-e6bc-ceeef88c47e3"
      },
      "cell_type": "code",
      "source": [
        "x=20"
      ],
      "execution_count": 7,
      "outputs": []
    },
    {
      "metadata": {
        "id": "Me4a2n24krGG",
        "colab_type": "code",
        "colab": {
          "base_uri": "https://localhost:8080/",
          "height": 34
        },
        "outputId": "b1e77446-df7a-4b90-c24c-59c70896148b"
      },
      "cell_type": "code",
      "source": [
        "print(x)"
      ],
      "execution_count": 8,
      "outputs": [
        {
          "output_type": "stream",
          "text": [
            "20\n"
          ],
          "name": "stdout"
        }
      ]
    },
    {
      "metadata": {
        "id": "sPpkx49U1jHZ",
        "colab_type": "text"
      },
      "cell_type": "markdown",
      "source": [
        "We can also do arithmetic with the variable. Convert the height in cm to metres, then print the new value as before (Warning! In Python 2, dividing an integer by an integer will return an integer.)"
      ]
    },
    {
      "metadata": {
        "id": "7FKAojzX07BA",
        "colab_type": "code",
        "colab": {
          "base_uri": "https://localhost:8080/",
          "height": 34
        },
        "outputId": "16cacee4-9fdb-46fb-f607-32c8c4d11aa7"
      },
      "cell_type": "code",
      "source": [
        "height_m = height_cm / 100\n",
        "print('height in metres:',height_m)"
      ],
      "execution_count": 9,
      "outputs": [
        {
          "output_type": "stream",
          "text": [
            "height in metres: 1.8\n"
          ],
          "name": "stdout"
        }
      ]
    },
    {
      "metadata": {
        "id": "7uxQcj-S1pSI",
        "colab_type": "text"
      },
      "cell_type": "markdown",
      "source": [
        "We can check which variables are available in memory with the special command: `%whos`"
      ]
    },
    {
      "metadata": {
        "id": "oq_2EYHn2a48",
        "colab_type": "code",
        "colab": {
          "base_uri": "https://localhost:8080/",
          "height": 104
        },
        "outputId": "301c14a4-8c11-4a6e-87db-53b931a8e7ef"
      },
      "cell_type": "code",
      "source": [
        "%whos"
      ],
      "execution_count": 14,
      "outputs": [
        {
          "output_type": "stream",
          "text": [
            "Variable    Type     Data/Info\n",
            "------------------------------\n",
            "height_cm   int      180\n",
            "height_m    float    1.8\n",
            "x           str      3\n"
          ],
          "name": "stdout"
        }
      ]
    },
    {
      "metadata": {
        "id": "Vol2L0iZ2p4A",
        "colab_type": "text"
      },
      "cell_type": "markdown",
      "source": [
        "We can see that each of our variables has a type (in this case `int` and `float`), describing the type of data held by the variable. We can use `type` to check the data type of a variable."
      ]
    },
    {
      "metadata": {
        "id": "ZvWH1rQ8mPDu",
        "colab_type": "code",
        "colab": {
          "base_uri": "https://localhost:8080/",
          "height": 17
        },
        "outputId": "e36b3259-9649-44f8-d7fc-0b4eeba25a11"
      },
      "cell_type": "code",
      "source": [
        "x = \"3\""
      ],
      "execution_count": 12,
      "outputs": []
    },
    {
      "metadata": {
        "id": "mk8I9j4Nmjbn",
        "colab_type": "code",
        "colab": {
          "base_uri": "https://localhost:8080/",
          "height": 35
        },
        "outputId": "c36d628c-95f9-4375-ce83-8418d0a8dff8"
      },
      "cell_type": "code",
      "source": [
        "print(x*10)"
      ],
      "execution_count": 13,
      "outputs": [
        {
          "output_type": "stream",
          "text": [
            "3333333333\n"
          ],
          "name": "stdout"
        }
      ]
    },
    {
      "metadata": {
        "id": "D8-z9zqU2bzV",
        "colab_type": "code",
        "colab": {
          "base_uri": "https://localhost:8080/",
          "height": 34
        },
        "outputId": "b8b92411-ea35-4e63-c003-4b6fc250962d"
      },
      "cell_type": "code",
      "source": [
        "type(height_cm)"
      ],
      "execution_count": 15,
      "outputs": [
        {
          "output_type": "execute_result",
          "data": {
            "text/plain": [
              "int"
            ]
          },
          "metadata": {
            "tags": []
          },
          "execution_count": 15
        }
      ]
    },
    {
      "metadata": {
        "id": "OKYLf5d93Yz8",
        "colab_type": "text"
      },
      "cell_type": "markdown",
      "source": [
        "Another data type is a `list`, which can hold a series of items. For example, we might measure a patient's heart rate several times over a period. "
      ]
    },
    {
      "metadata": {
        "id": "hoRS1QIC25vd",
        "colab_type": "code",
        "colab": {
          "base_uri": "https://localhost:8080/",
          "height": 17
        },
        "outputId": "3c509228-03ee-4bc6-bc1e-8affa6d82db9"
      },
      "cell_type": "code",
      "source": [
        "heartrate = [66,64,63,62,66,69,70,75,76]"
      ],
      "execution_count": 16,
      "outputs": []
    },
    {
      "metadata": {
        "id": "HMofVUZc4Kkm",
        "colab_type": "code",
        "colab": {
          "base_uri": "https://localhost:8080/",
          "height": 34
        },
        "outputId": "ea3858c5-3d83-4f5f-f83c-1bb8635de142"
      },
      "cell_type": "code",
      "source": [
        "print(heartrate)"
      ],
      "execution_count": 17,
      "outputs": [
        {
          "output_type": "stream",
          "text": [
            "[66, 64, 63, 62, 66, 69, 70, 75, 76]\n"
          ],
          "name": "stdout"
        }
      ]
    },
    {
      "metadata": {
        "id": "pQsUlVZ44G9w",
        "colab_type": "code",
        "colab": {
          "base_uri": "https://localhost:8080/",
          "height": 34
        },
        "outputId": "8dc126d9-5dfe-4ee9-e861-d57de2c71e9b"
      },
      "cell_type": "code",
      "source": [
        "type(heartrate)"
      ],
      "execution_count": 18,
      "outputs": [
        {
          "output_type": "execute_result",
          "data": {
            "text/plain": [
              "list"
            ]
          },
          "metadata": {
            "tags": []
          },
          "execution_count": 18
        }
      ]
    },
    {
      "metadata": {
        "id": "o8ZLP_Yi4WC4",
        "colab_type": "text"
      },
      "cell_type": "markdown",
      "source": [
        "## Repeating actions in loops"
      ]
    },
    {
      "metadata": {
        "id": "Z8nHLhoC4qvC",
        "colab_type": "text"
      },
      "cell_type": "markdown",
      "source": [
        "We can access individual items in a list using an index (note, in Python, indexing begins with 0!). For example, let's view the first `[0]` and second `[1]` heart rate measurements."
      ]
    },
    {
      "metadata": {
        "id": "qrf_C_ju4PDi",
        "colab_type": "code",
        "colab": {
          "base_uri": "https://localhost:8080/",
          "height": 34
        },
        "outputId": "445abdec-dda8-45f4-af25-82e97fd99d1f"
      },
      "cell_type": "code",
      "source": [
        "print(heartrate[0])"
      ],
      "execution_count": 19,
      "outputs": [
        {
          "output_type": "stream",
          "text": [
            "66\n"
          ],
          "name": "stdout"
        }
      ]
    },
    {
      "metadata": {
        "id": "Ot4nlKz45IR8",
        "colab_type": "code",
        "colab": {
          "base_uri": "https://localhost:8080/",
          "height": 34
        },
        "outputId": "376afb6d-ec20-4bea-b291-844c2b9e2f3e"
      },
      "cell_type": "code",
      "source": [
        "print(heartrate[1])"
      ],
      "execution_count": 20,
      "outputs": [
        {
          "output_type": "stream",
          "text": [
            "64\n"
          ],
          "name": "stdout"
        }
      ]
    },
    {
      "metadata": {
        "id": "rnkqGV8M5PA2",
        "colab_type": "text"
      },
      "cell_type": "markdown",
      "source": [
        "We can iterate through a list with the help of a `for` loop. Let's try looping over our list of heart rates, printing each item as we go."
      ]
    },
    {
      "metadata": {
        "id": "GoRQm5zQ5Lfo",
        "colab_type": "code",
        "colab": {
          "base_uri": "https://localhost:8080/",
          "height": 174
        },
        "outputId": "e6f8c23e-b569-4078-c470-283b35b46463"
      },
      "cell_type": "code",
      "source": [
        "for hr in heartrate:\n",
        "    print('the heart rate is:', hr)"
      ],
      "execution_count": 21,
      "outputs": [
        {
          "output_type": "stream",
          "text": [
            "the heart rate is: 66\n",
            "the heart rate is: 64\n",
            "the heart rate is: 63\n",
            "the heart rate is: 62\n",
            "the heart rate is: 66\n",
            "the heart rate is: 69\n",
            "the heart rate is: 70\n",
            "the heart rate is: 75\n",
            "the heart rate is: 76\n"
          ],
          "name": "stdout"
        }
      ]
    },
    {
      "metadata": {
        "id": "pxtldH0p6O2n",
        "colab_type": "text"
      },
      "cell_type": "markdown",
      "source": [
        "## Making choices"
      ]
    },
    {
      "metadata": {
        "id": "ewr9OD256ZUB",
        "colab_type": "text"
      },
      "cell_type": "markdown",
      "source": [
        "Sometimes we want to take different actions depending on a set of conditions. We can do this using an `if/else` statement. Let's write a statement to test if a mean arterial pressure (`meanpressure`) is high or low."
      ]
    },
    {
      "metadata": {
        "id": "EUYw8jac5obn",
        "colab_type": "code",
        "colab": {
          "base_uri": "https://localhost:8080/",
          "height": 34
        },
        "outputId": "321c45ae-c037-4c54-e994-e716f0536bde"
      },
      "cell_type": "code",
      "source": [
        "meanpressure = 70\n",
        "\n",
        "if meanpressure < 60:\n",
        "    print('Low pressure')\n",
        "elif meanpressure > 100:\n",
        "    print('High pressure')\n",
        "else:\n",
        "    print('Normal pressure')"
      ],
      "execution_count": 22,
      "outputs": [
        {
          "output_type": "stream",
          "text": [
            "Normal pressure\n"
          ],
          "name": "stdout"
        }
      ]
    },
    {
      "metadata": {
        "id": "NtZu94Zf9Sdm",
        "colab_type": "text"
      },
      "cell_type": "markdown",
      "source": [
        "## Writing our own functions"
      ]
    },
    {
      "metadata": {
        "id": "pOLj0Jto9XeO",
        "colab_type": "text"
      },
      "cell_type": "markdown",
      "source": [
        "To help organise our code and to avoid replicating the same code again and again, we can create functions. \n",
        "\n",
        "Let's create a function to convert temperature in fahrenheit to celsius, using the following formula:\n",
        "\n",
        "`celsius = (fahrenheit - 32) * 5/9`"
      ]
    },
    {
      "metadata": {
        "id": "JD2KOyjf83ry",
        "colab_type": "code",
        "colab": {
          "base_uri": "https://localhost:8080/",
          "height": 17
        },
        "outputId": "46918ac7-e61f-4b1a-8e53-6e25d25f9d58"
      },
      "cell_type": "code",
      "source": [
        "def fahr_to_celsius(temp):\n",
        "  celsius = (temp - 32) * 5/9\n",
        "  return celsius\n",
        "    "
      ],
      "execution_count": 23,
      "outputs": []
    },
    {
      "metadata": {
        "id": "yq8cx3JA-34T",
        "colab_type": "text"
      },
      "cell_type": "markdown",
      "source": [
        "Now we can call the function `fahr_to_celsius` to convert a temperature from celsius to fahrenheit.\n",
        "\n"
      ]
    },
    {
      "metadata": {
        "id": "RvIyFKcD-AhD",
        "colab_type": "code",
        "colab": {
          "base_uri": "https://localhost:8080/",
          "height": 34
        },
        "outputId": "21eac83d-8c69-459d-d832-f27ea07dbae9"
      },
      "cell_type": "code",
      "source": [
        "body_temp_f = 98.6\n",
        "body_temp_c = fahr_to_celsius(body_temp_f)\n",
        "print('Patient body temperature is:', body_temp_c, 'celsius')"
      ],
      "execution_count": 24,
      "outputs": [
        {
          "output_type": "stream",
          "text": [
            "Patient body temperature is: 37.0 celsius\n"
          ],
          "name": "stdout"
        }
      ]
    },
    {
      "metadata": {
        "id": "u8145prSo0w8",
        "colab_type": "code",
        "colab": {
          "base_uri": "https://localhost:8080/",
          "height": 34
        },
        "outputId": "f9d64744-36e0-4555-8610-b3e510a5a3fa"
      },
      "cell_type": "code",
      "source": [
        "fahr_to_celsius(150)"
      ],
      "execution_count": 25,
      "outputs": [
        {
          "output_type": "execute_result",
          "data": {
            "text/plain": [
              "65.55555555555556"
            ]
          },
          "metadata": {
            "tags": []
          },
          "execution_count": 25
        }
      ]
    },
    {
      "metadata": {
        "id": "JqtF53Mko9ny",
        "colab_type": "code",
        "colab": {
          "base_uri": "https://localhost:8080/",
          "height": 17
        },
        "outputId": "d7fd7f04-3f8d-465f-8545-c165c3d9c983"
      },
      "cell_type": "code",
      "source": [
        "def celsius_to_fahr(temp):\n",
        "  fahr = (temp * 9/5) + 32\n",
        "  return fahr"
      ],
      "execution_count": 26,
      "outputs": []
    },
    {
      "metadata": {
        "id": "DHGjikFSqc2j",
        "colab_type": "code",
        "colab": {
          "base_uri": "https://localhost:8080/",
          "height": 34
        },
        "outputId": "a46b380a-7176-43e9-ad48-26a5177a6dfb"
      },
      "cell_type": "code",
      "source": [
        "celsius_to_fahr(0)"
      ],
      "execution_count": 27,
      "outputs": [
        {
          "output_type": "execute_result",
          "data": {
            "text/plain": [
              "32.0"
            ]
          },
          "metadata": {
            "tags": []
          },
          "execution_count": 27
        }
      ]
    },
    {
      "metadata": {
        "id": "YNhdu10RArbJ",
        "colab_type": "text"
      },
      "cell_type": "markdown",
      "source": [
        "## Reusing code with libraries"
      ]
    },
    {
      "metadata": {
        "id": "axG6R47bAyy3",
        "colab_type": "text"
      },
      "cell_type": "markdown",
      "source": [
        "Python is a popular language for data analysis, so thankfully we can benefit from the hard work of others with the use of libraries. Pandas, a popular library for data analysis, introduces the `DataFrame`, a convenient data structure similar to a spreadsheet. Before using a library, we will need to import it."
      ]
    },
    {
      "metadata": {
        "id": "RGSZUAsd_S6q",
        "colab_type": "code",
        "colab": {
          "base_uri": "https://localhost:8080/",
          "height": 17
        },
        "outputId": "cc385776-d70f-4789-b91c-36cb4792c6bb"
      },
      "cell_type": "code",
      "source": [
        "# let's assign pandas an alias, pd, for brevity\n",
        "import pandas as pd"
      ],
      "execution_count": 28,
      "outputs": []
    },
    {
      "metadata": {
        "id": "CfThlgz-CXf2",
        "colab_type": "text"
      },
      "cell_type": "markdown",
      "source": [
        "We have shared a demo dataset online containing physiological data relating to 1000 patients admitted to an intensive care unit in Boston, Massachussetts, USA. Let's load this data into our new data structure.\n"
      ]
    },
    {
      "metadata": {
        "id": "DZLx3qVCBtRb",
        "colab_type": "code",
        "colab": {
          "base_uri": "https://localhost:8080/",
          "height": 17
        },
        "outputId": "aa22f40c-e635-4730-bbb0-db8386e1879f"
      },
      "cell_type": "code",
      "source": [
        "url=\"https://raw.githubusercontent.com/tompollard/tableone/master/data/pn2012_demo.csv\"\n",
        "data=pd.read_csv(url)"
      ],
      "execution_count": 29,
      "outputs": []
    },
    {
      "metadata": {
        "id": "Bzg07Y03roDR",
        "colab_type": "code",
        "colab": {
          "base_uri": "https://localhost:8080/",
          "height": 1137
        },
        "outputId": "55ac2862-2897-4935-cd08-8b3e8357d191"
      },
      "cell_type": "code",
      "source": [
        ""
      ],
      "execution_count": 30,
      "outputs": [
        {
          "output_type": "stream",
          "text": [
            "     Age  SysABP  Height  Weight   ICU  MechVent  LOS  death\n",
            "0     54     NaN     NaN     NaN  SICU         0    5      0\n",
            "1     76   105.0   175.3    80.6  CSRU         1    8      0\n",
            "2     44   148.0     NaN    56.7  MICU         0   19      0\n",
            "3     68     NaN   180.3    84.6  MICU         0    9      0\n",
            "4     88     NaN     NaN     NaN  MICU         0    4      0\n",
            "5     64   150.0   180.3     NaN   CCU         0    6      0\n",
            "6     68   205.0   162.6    87.0  MICU         0    9      0\n",
            "7     78   103.0   162.6    48.4  MICU         0    6      1\n",
            "8     64     NaN     NaN    60.7  MICU         0   17      0\n",
            "9     74    98.0   175.3    66.1  CSRU         1    8      0\n",
            "10    64     NaN     NaN    65.0  MICU         0   13      0\n",
            "11    71   115.0   157.5    55.8  CSRU         1    7      0\n",
            "12    66     NaN   157.5    84.5  MICU         0   22      0\n",
            "13    84     NaN   170.2   102.6   CCU         0   13      0\n",
            "14    77     NaN   162.6    93.0   CCU         0    8      0\n",
            "15    78   119.0   167.6    72.4  CSRU         1   11      0\n",
            "16    65   145.0     NaN    66.3  MICU         0   10      0\n",
            "17    84     NaN   182.9    82.5  MICU         0    6      0\n",
            "18    78     0.0     NaN     NaN  MICU         1   12      0\n",
            "19    40    94.0   165.1    90.7  CSRU         1    5      0\n",
            "20    48     NaN   154.9     NaN  MICU         0   29      1\n",
            "21    58   121.0   188.0   106.0  CSRU         0    7      0\n",
            "22    81     NaN     NaN    63.7  MICU         0   13      0\n",
            "23    35     NaN     NaN    71.8  MICU         0    3      0\n",
            "24    26     NaN     NaN     NaN  MICU         0   14      0\n",
            "25    66     NaN   137.2    82.0  MICU         0   14      0\n",
            "26    80   139.0     NaN     NaN  SICU         1    5      1\n",
            "27    53   135.0   177.8     NaN  SICU         1   76      0\n",
            "28    74   154.0   177.8     NaN  CSRU         1   28      0\n",
            "29    80     NaN   180.3     NaN  MICU         0   13      1\n",
            "..   ...     ...     ...     ...   ...       ...  ...    ...\n",
            "970   59    96.0   167.6     NaN   CCU         0   11      0\n",
            "971   80     NaN     NaN     NaN  SICU         1    3      1\n",
            "972   81   127.0   180.3    84.0   CCU         0   12      0\n",
            "973   43    93.0   177.8   113.0   CCU         1   11      0\n",
            "974   69   122.0   157.5    85.3  CSRU         1   10      0\n",
            "975   84   165.0     NaN    82.3  SICU         1    7      1\n",
            "976   60   146.0     NaN   107.0   CCU         1   11      0\n",
            "977   82   113.0   152.4    76.1  CSRU         1    6      0\n",
            "978   83   126.0   170.2    75.0  SICU         1   25      1\n",
            "979   80     NaN     NaN    62.6  MICU         0    4      0\n",
            "980   84     0.0     NaN     NaN   CCU         0   20      0\n",
            "981   71   138.0   180.3    79.0  MICU         0   -1      0\n",
            "982   89   106.0     NaN    55.3  SICU         0   15      1\n",
            "983   65   105.0   180.3    75.5  CSRU         0   11      0\n",
            "984   69   115.0   172.7    63.7  MICU         1   23      0\n",
            "985   50   160.0   162.6    57.0  CSRU         0   29      0\n",
            "986   82   123.0     NaN    66.0  MICU         0   16      1\n",
            "987   59   144.0     NaN    95.0  SICU         1    3      0\n",
            "988   19   115.0     NaN    87.5  SICU         1    4      0\n",
            "989   79     0.0   152.4    55.5  SICU         1   10      1\n",
            "990   84     NaN     NaN    73.0  MICU         0    6      0\n",
            "991   66     NaN     NaN     NaN  MICU         0    8      0\n",
            "992   84   106.0     NaN     NaN  MICU         1   -1      0\n",
            "993   90     NaN     NaN     NaN  CSRU         0    6      0\n",
            "994   71   120.0   160.0    59.9  SICU         0    6      0\n",
            "995   35     NaN     NaN    39.8  MICU         0    5      0\n",
            "996   73    71.0     NaN   104.0  MICU         1   15      0\n",
            "997   81   115.0     NaN    95.4   CCU         0    7      0\n",
            "998   63   119.0   172.7    77.7  CSRU         0    6      0\n",
            "999   82   110.0   162.6    79.6  CSRU         1   11      0\n",
            "\n",
            "[1000 rows x 8 columns]\n"
          ],
          "name": "stdout"
        }
      ]
    },
    {
      "metadata": {
        "id": "6aCiXFVpCzB9",
        "colab_type": "text"
      },
      "cell_type": "markdown",
      "source": [
        "The variable `data` should now contain our new dataset. Let's view the first few rows using `head()`. Note: parentheses `\"()\"` are generally required when we are performing an action/operation. In this case, the action is to select a limited number of rows."
      ]
    },
    {
      "metadata": {
        "id": "dIwFtenWCwwd",
        "colab_type": "code",
        "colab": {
          "base_uri": "https://localhost:8080/",
          "height": 359
        },
        "outputId": "ae96c4b8-c0a9-4e7c-d586-52465ea01340"
      },
      "cell_type": "code",
      "source": [
        "data.head(10)"
      ],
      "execution_count": 32,
      "outputs": [
        {
          "output_type": "execute_result",
          "data": {
            "text/html": [
              "<div>\n",
              "<style scoped>\n",
              "    .dataframe tbody tr th:only-of-type {\n",
              "        vertical-align: middle;\n",
              "    }\n",
              "\n",
              "    .dataframe tbody tr th {\n",
              "        vertical-align: top;\n",
              "    }\n",
              "\n",
              "    .dataframe thead th {\n",
              "        text-align: right;\n",
              "    }\n",
              "</style>\n",
              "<table border=\"1\" class=\"dataframe\">\n",
              "  <thead>\n",
              "    <tr style=\"text-align: right;\">\n",
              "      <th></th>\n",
              "      <th>Age</th>\n",
              "      <th>SysABP</th>\n",
              "      <th>Height</th>\n",
              "      <th>Weight</th>\n",
              "      <th>ICU</th>\n",
              "      <th>MechVent</th>\n",
              "      <th>LOS</th>\n",
              "      <th>death</th>\n",
              "    </tr>\n",
              "  </thead>\n",
              "  <tbody>\n",
              "    <tr>\n",
              "      <th>0</th>\n",
              "      <td>54</td>\n",
              "      <td>NaN</td>\n",
              "      <td>NaN</td>\n",
              "      <td>NaN</td>\n",
              "      <td>SICU</td>\n",
              "      <td>0</td>\n",
              "      <td>5</td>\n",
              "      <td>0</td>\n",
              "    </tr>\n",
              "    <tr>\n",
              "      <th>1</th>\n",
              "      <td>76</td>\n",
              "      <td>105.0</td>\n",
              "      <td>175.3</td>\n",
              "      <td>80.6</td>\n",
              "      <td>CSRU</td>\n",
              "      <td>1</td>\n",
              "      <td>8</td>\n",
              "      <td>0</td>\n",
              "    </tr>\n",
              "    <tr>\n",
              "      <th>2</th>\n",
              "      <td>44</td>\n",
              "      <td>148.0</td>\n",
              "      <td>NaN</td>\n",
              "      <td>56.7</td>\n",
              "      <td>MICU</td>\n",
              "      <td>0</td>\n",
              "      <td>19</td>\n",
              "      <td>0</td>\n",
              "    </tr>\n",
              "    <tr>\n",
              "      <th>3</th>\n",
              "      <td>68</td>\n",
              "      <td>NaN</td>\n",
              "      <td>180.3</td>\n",
              "      <td>84.6</td>\n",
              "      <td>MICU</td>\n",
              "      <td>0</td>\n",
              "      <td>9</td>\n",
              "      <td>0</td>\n",
              "    </tr>\n",
              "    <tr>\n",
              "      <th>4</th>\n",
              "      <td>88</td>\n",
              "      <td>NaN</td>\n",
              "      <td>NaN</td>\n",
              "      <td>NaN</td>\n",
              "      <td>MICU</td>\n",
              "      <td>0</td>\n",
              "      <td>4</td>\n",
              "      <td>0</td>\n",
              "    </tr>\n",
              "    <tr>\n",
              "      <th>5</th>\n",
              "      <td>64</td>\n",
              "      <td>150.0</td>\n",
              "      <td>180.3</td>\n",
              "      <td>NaN</td>\n",
              "      <td>CCU</td>\n",
              "      <td>0</td>\n",
              "      <td>6</td>\n",
              "      <td>0</td>\n",
              "    </tr>\n",
              "    <tr>\n",
              "      <th>6</th>\n",
              "      <td>68</td>\n",
              "      <td>205.0</td>\n",
              "      <td>162.6</td>\n",
              "      <td>87.0</td>\n",
              "      <td>MICU</td>\n",
              "      <td>0</td>\n",
              "      <td>9</td>\n",
              "      <td>0</td>\n",
              "    </tr>\n",
              "    <tr>\n",
              "      <th>7</th>\n",
              "      <td>78</td>\n",
              "      <td>103.0</td>\n",
              "      <td>162.6</td>\n",
              "      <td>48.4</td>\n",
              "      <td>MICU</td>\n",
              "      <td>0</td>\n",
              "      <td>6</td>\n",
              "      <td>1</td>\n",
              "    </tr>\n",
              "    <tr>\n",
              "      <th>8</th>\n",
              "      <td>64</td>\n",
              "      <td>NaN</td>\n",
              "      <td>NaN</td>\n",
              "      <td>60.7</td>\n",
              "      <td>MICU</td>\n",
              "      <td>0</td>\n",
              "      <td>17</td>\n",
              "      <td>0</td>\n",
              "    </tr>\n",
              "    <tr>\n",
              "      <th>9</th>\n",
              "      <td>74</td>\n",
              "      <td>98.0</td>\n",
              "      <td>175.3</td>\n",
              "      <td>66.1</td>\n",
              "      <td>CSRU</td>\n",
              "      <td>1</td>\n",
              "      <td>8</td>\n",
              "      <td>0</td>\n",
              "    </tr>\n",
              "  </tbody>\n",
              "</table>\n",
              "</div>"
            ],
            "text/plain": [
              "   Age  SysABP  Height  Weight   ICU  MechVent  LOS  death\n",
              "0   54     NaN     NaN     NaN  SICU         0    5      0\n",
              "1   76   105.0   175.3    80.6  CSRU         1    8      0\n",
              "2   44   148.0     NaN    56.7  MICU         0   19      0\n",
              "3   68     NaN   180.3    84.6  MICU         0    9      0\n",
              "4   88     NaN     NaN     NaN  MICU         0    4      0\n",
              "5   64   150.0   180.3     NaN   CCU         0    6      0\n",
              "6   68   205.0   162.6    87.0  MICU         0    9      0\n",
              "7   78   103.0   162.6    48.4  MICU         0    6      1\n",
              "8   64     NaN     NaN    60.7  MICU         0   17      0\n",
              "9   74    98.0   175.3    66.1  CSRU         1    8      0"
            ]
          },
          "metadata": {
            "tags": []
          },
          "execution_count": 32
        }
      ]
    },
    {
      "metadata": {
        "id": "rW1KhsD5E6Ix",
        "colab_type": "text"
      },
      "cell_type": "markdown",
      "source": [
        "We can perform other operations on the dataframe. For example, using `mean()` to get an average of the columns."
      ]
    },
    {
      "metadata": {
        "id": "Uard_dDXFJzP",
        "colab_type": "code",
        "colab": {
          "base_uri": "https://localhost:8080/",
          "height": 157
        },
        "outputId": "53b4f30e-91b9-4620-f1a7-55a9ec530f20"
      },
      "cell_type": "code",
      "source": [
        "data.mean()"
      ],
      "execution_count": 33,
      "outputs": [
        {
          "output_type": "execute_result",
          "data": {
            "text/plain": [
              "Age          65.045000\n",
              "SysABP      114.253879\n",
              "Height      170.094476\n",
              "Weight       82.933954\n",
              "MechVent      0.460000\n",
              "LOS          14.164000\n",
              "death         0.136000\n",
              "dtype: float64"
            ]
          },
          "metadata": {
            "tags": []
          },
          "execution_count": 33
        }
      ]
    },
    {
      "metadata": {
        "id": "U7HfllpfGsgn",
        "colab_type": "text"
      },
      "cell_type": "markdown",
      "source": [
        "If we are unsure of the meaning of a method, we can check by adding `?` after the method. For example, what is `max`?"
      ]
    },
    {
      "metadata": {
        "id": "ZvxQ_FjvGpV1",
        "colab_type": "code",
        "colab": {
          "base_uri": "https://localhost:8080/",
          "height": 17
        },
        "outputId": "89f48145-bd78-4c98-8a1f-c2833ec606b1"
      },
      "cell_type": "code",
      "source": [
        "data.std?"
      ],
      "execution_count": 35,
      "outputs": []
    },
    {
      "metadata": {
        "id": "d3n1vAiQFM9G",
        "colab_type": "code",
        "colab": {
          "base_uri": "https://localhost:8080/",
          "height": 174
        },
        "outputId": "4fb96e7e-19e2-4f24-c8f7-00e8927a2c9a"
      },
      "cell_type": "code",
      "source": [
        "data.max(skipna=True)"
      ],
      "execution_count": 39,
      "outputs": [
        {
          "output_type": "execute_result",
          "data": {
            "text/plain": [
              "Age            90\n",
              "SysABP        221\n",
              "Height      406.4\n",
              "Weight        202\n",
              "ICU          SICU\n",
              "MechVent        1\n",
              "LOS           154\n",
              "death           1\n",
              "dtype: object"
            ]
          },
          "metadata": {
            "tags": []
          },
          "execution_count": 39
        }
      ]
    },
    {
      "metadata": {
        "id": "6eHPezbItNH9",
        "colab_type": "code",
        "colab": {
          "base_uri": "https://localhost:8080/",
          "height": 34
        },
        "outputId": "04379fc9-0652-44e0-98ae-b66a46b08d20"
      },
      "cell_type": "code",
      "source": [
        "data.Age.median()"
      ],
      "execution_count": 42,
      "outputs": [
        {
          "output_type": "execute_result",
          "data": {
            "text/plain": [
              "68.0"
            ]
          },
          "metadata": {
            "tags": []
          },
          "execution_count": 42
        }
      ]
    },
    {
      "metadata": {
        "id": "nhAWSUuVtq2V",
        "colab_type": "code",
        "colab": {
          "base_uri": "https://localhost:8080/",
          "height": 34
        },
        "outputId": "5ccf74be-fd9d-4b3a-c86c-bee835bea4ce"
      },
      "cell_type": "code",
      "source": [
        "data.Age.mean()"
      ],
      "execution_count": 43,
      "outputs": [
        {
          "output_type": "execute_result",
          "data": {
            "text/plain": [
              "65.045"
            ]
          },
          "metadata": {
            "tags": []
          },
          "execution_count": 43
        }
      ]
    },
    {
      "metadata": {
        "id": "xf81EvBXCzFS",
        "colab_type": "text"
      },
      "cell_type": "markdown",
      "source": [
        "We can access a single column in the data by specifying the column name after the variable. For example, we can select a list of ages with `data.Age`, and then find the mean for this column in a similar way to before."
      ]
    },
    {
      "metadata": {
        "id": "O_L2gBM1DziZ",
        "colab_type": "code",
        "colab": {
          "base_uri": "https://localhost:8080/",
          "height": 34
        },
        "outputId": "1fcfbbca-70a8-432f-978f-3f89ca2fc1e3"
      },
      "cell_type": "code",
      "source": [
        "print('The mean age of patients is:', data.Age.mean())"
      ],
      "execution_count": 44,
      "outputs": [
        {
          "output_type": "stream",
          "text": [
            "The mean age of patients is: 65.045\n"
          ],
          "name": "stdout"
        }
      ]
    },
    {
      "metadata": {
        "id": "EX2khCQgFvmU",
        "colab_type": "text"
      },
      "cell_type": "markdown",
      "source": [
        "Pandas also provides a convenient method `plot` for plotting data. Let's plot a distribution of the patient ages in our dataset."
      ]
    },
    {
      "metadata": {
        "id": "3WBLYL5JHSiu",
        "colab_type": "code",
        "colab": {
          "base_uri": "https://localhost:8080/",
          "height": 378
        },
        "outputId": "eec8d8dd-664c-4459-d764-3e8943112bcc"
      },
      "cell_type": "code",
      "source": [
        "data.Age.plot(kind='kde', title='Age of patients in years')"
      ],
      "execution_count": 45,
      "outputs": [
        {
          "output_type": "execute_result",
          "data": {
            "text/plain": [
              "<matplotlib.axes._subplots.AxesSubplot at 0x7f06e81d04a8>"
            ]
          },
          "metadata": {
            "tags": []
          },
          "execution_count": 45
        },
        {
          "output_type": "display_data",
          "data": {
            "image/png": "[encoded data removed]",
            "text/plain": [
              "<matplotlib.figure.Figure at 0x7f06e81e1390>"
            ]
          },
          "metadata": {
            "tags": []
          }
        }
      ]
    },
    {
      "metadata": {
        "id": "N3fQ5bS7uD5B",
        "colab_type": "code",
        "colab": {}
      },
      "cell_type": "code",
      "source": [
        ""
      ],
      "execution_count": 0,
      "outputs": []
    }
  ]
}